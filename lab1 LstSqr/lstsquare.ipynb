{
 "cells": [
  {
   "cell_type": "markdown",
   "id": "fe667796",
   "metadata": {},
   "source": [
    "# lab 1: Least Squares "
   ]
  },
  {
   "cell_type": "code",
   "execution_count": 8,
   "id": "e6246e33",
   "metadata": {},
   "outputs": [
    {
     "name": "stdout",
     "output_type": "stream",
     "text": [
      "          x1         x2             y\n",
      "0 -50.000000 -30.000000 -1.499390e+08\n",
      "1 -49.849850 -29.819820 -1.508846e+08\n",
      "2 -49.699700 -29.639640 -1.517676e+08\n",
      "3 -49.549550 -29.459459 -1.525890e+08\n",
      "4 -49.399399 -29.279279 -1.533500e+08\n"
     ]
    }
   ],
   "source": [
    "import pandas as pd \n",
    "import numpy as np\n",
    "\n",
    "df  = pd.read_csv(\"train.csv\")\n",
    "\n",
    "print(df.head())"
   ]
  },
  {
   "cell_type": "code",
   "execution_count": 9,
   "id": "838b16d4",
   "metadata": {},
   "outputs": [],
   "source": [
    "x1_all = df[\"x1\"].to_numpy()\n",
    "x2_all = df[\"x2\"].to_numpy()\n",
    "y_all  = df[\"y\"].to_numpy()\n",
    "\n",
    "split = 640\n",
    "\n",
    "x1=x1_all[:split]\n",
    "x2=x2_all[:split]\n",
    "y =y_all[:split]\n",
    "\n",
    "xt1=x1_all[split:]\n",
    "xt2=x2_all[split:]\n",
    "yt =y_all[split:]\n",
    "\n",
    "\n"
   ]
  },
  {
   "cell_type": "markdown",
   "id": "4da42670",
   "metadata": {},
   "source": [
    "- We define the function build_vandermonde(x1,x2,degree), where i combined all the vandermonde matrices until order 5 (just to make it cleaner).\n",
    "- THen in a for loop that loops 5 times, (for each order), We train the data on these 5 using 80% of the data.\n",
    "- we use the remaining 20% to test and see which of the coefficients fits best with the dat.\n",
    "- Then we store the coefs of each order and the error in their corresponding lists. \n",
    "- We notice that the fitting with Vandermonds matrix till order  5, all have huge MSE values, up to 10e+19/20\n"
   ]
  },
  {
   "cell_type": "code",
   "execution_count": 10,
   "id": "c7779a70",
   "metadata": {},
   "outputs": [],
   "source": [
    "def build_vandermonde(x1, x2, degree):\n",
    "\n",
    "    if degree == 1:\n",
    "        return np.column_stack([np.ones_like(x1), x1, x2])\n",
    "    elif degree == 2:\n",
    "        return np.column_stack([np.ones_like(x1),  x1, x2,x1**2, x1*x2, x2**2])\n",
    "    elif degree == 3:\n",
    "        return np.column_stack([np.ones_like(x1), x1, x2,x1**2, x1*x2, x2**2,x1**3, x1**2*x2, x1*x2**2, x2**3])\n",
    "    elif degree == 4:\n",
    "        return np.column_stack([np.ones_like(x1),  x1, x2,x1**2, x1*x2, x2**2,x1**3, x1**2*x2, x1*x2**2, x2**3,x1**4, x1**3*x2, x1**2*x2**2, x1*x2**3, x2**4])\n",
    "    elif degree == 5:\n",
    "         return np.column_stack([np.ones_like(x1), x1, x2, x1**2, x1*x2, x2**2,x1**3, x1**2*x2, x1*x2**2, x2**3, x1**4, x1**3*x2, x1**2*x2**2, x1*x2**3, x2**4, x1**5, x1**4*x2, x1**3*x2**2, x1**2*x2**3, x1*x2**4, x2**5])\n"
   ]
  },
  {
   "cell_type": "code",
   "execution_count": 11,
   "id": "291b2525",
   "metadata": {},
   "outputs": [
    {
     "name": "stdout",
     "output_type": "stream",
     "text": [
      "Order 1: MSE = 1.464898618537774e+20\n",
      "Order 2: MSE = 1.0162301854393197e+20\n",
      "Order 3: MSE = 6.657687093974446e+19\n",
      "Order 4: MSE = 5.589138716828531e+19\n",
      "Order 5: MSE = 6.793806797114696e+19\n"
     ]
    }
   ],
   "source": [
    "mse_list = []\n",
    "coef_list = []\n",
    "\n",
    "for i in range(1, 6):\n",
    "    V = build_vandermonde(x1, x2, i)\n",
    "    Vt = build_vandermonde(xt1, xt2, i)\n",
    "    \n",
    "    #solving for coefs\n",
    "    VT = V.T\n",
    "    VTV = VT @ V\n",
    "    VTy = VT @ y\n",
    "    coefs = np.linalg.solve(VTV, VTy)\n",
    "    \n",
    "    #predicted y values\n",
    "    yp = Vt @ coefs\n",
    "    \n",
    "    #mse y test and y predicted\n",
    "    mse = np.mean((yt.reshape(-1, 1) - yp)**2)\n",
    "    \n",
    "    mse_list.append(mse)\n",
    "    coef_list.append(coefs.ravel())\n",
    "\n",
    "for i in range(5):\n",
    "    print(f\"Order {i+1}: MSE = {mse_list[i]}\")"
   ]
  },
  {
   "cell_type": "markdown",
   "id": "4c79af29",
   "metadata": {},
   "source": [
    "From the previous results we can clearly see that the best MSE has the fiiting of order 4, the fitting of the polynomial in order 5 starts overfiitng and we get a higher MSE.\n",
    "\n",
    "however our Error is still huge  of order 10e+19, however it is still acceptable because of the huge magnitudes in the dataset.\n",
    "\n",
    "we need eto scale the data to get more precise predictions, \n"
   ]
  },
  {
   "cell_type": "markdown",
   "id": "80f01421",
   "metadata": {},
   "source": [
    "Now, before building the Vandermonde matrix, we scale the input variables $(x_1, x_2)$ to improve numerical stability.  \n",
    "Polynomial terms of orders 4 or 5  can grow extremely large if the original data values are large, which makes the Vandermonde matrix basically blow up.\n",
    "\n",
    "\n",
    "We transform each input feature to have a smaller, standardized range:\n",
    "we use \n",
    "\n",
    "$$\n",
    "x_i' = \\frac{x_i - \\mu_i}{\\sigma_i} \\quad \\text{(z-score standardization)}\n",
    "$$\n",
    "Where $ \\mu _i $ is the mean values of $x_i$ and $\\sigma _i$ is the standrad deviation.\n",
    "\n",
    "These scaled values $(x_1', x_2', y')$ are then used to build the Vandermonde  matrix for fitting and prediction.\n",
    "\n",
    "\n",
    "\n",
    "\n",
    "- When predicting on new data, we apply the same scaling parameters computed from the training set.\n",
    "- After computing $y'$ we need do rescale, by simply inversing the equation of y_scaled and finding y\n"
   ]
  },
  {
   "cell_type": "code",
   "execution_count": 12,
   "id": "0c47218e",
   "metadata": {},
   "outputs": [
    {
     "name": "stdout",
     "output_type": "stream",
     "text": [
      "4.443799497851518\n"
     ]
    }
   ],
   "source": [
    "#z score parameters\n",
    "mu1 = np.mean(x1 )\n",
    "sigma1 = np.std( x1)\n",
    "\n",
    "mu2 =np.mean( x2)\n",
    "sigma2 = np.std(x2)\n",
    "\n",
    "y_mean = np.mean(y)\n",
    "y_std = np.std(y )\n",
    "\n",
    "#finding saled values\n",
    "x1_scaled = (x1-mu1 ) / sigma1\n",
    "x2_scaled =( x2- mu2 ) / sigma2\n",
    "y_scaled= (y - y_mean) / y_std\n",
    "\n",
    "xt1_scaled= (xt1 - mu1) / sigma1\n",
    "xt2_scaled=(xt2- mu2)/ sigma2\n",
    "\n",
    "\n",
    "order = 5 #change  order from 1->4 to see the huge mse that we get \n",
    "#Building vandermond matrices vor scaled values using order 5,\n",
    "V = build_vandermonde(x1_scaled, x2_scaled, order) \n",
    "Vt = build_vandermonde(xt1_scaled, xt2_scaled, order)\n",
    "\n",
    "# solving matrix equation for finding coefficents\n",
    "VT = V.T\n",
    "VTV = VT @ V\n",
    "VTy = VT @ y_scaled.reshape(-1, 1)\n",
    "coeffs = np.linalg.solve(VTV, VTy)\n",
    "\n",
    "yp_scaled =  Vt @ coeffs\n",
    "\n",
    "yp = yp_scaled* y_std + y_mean\n",
    "\n",
    "mse = np.mean((yt.reshape(-1, 1) - yp)**2)\n",
    "\n",
    "print(mse)\n"
   ]
  },
  {
   "cell_type": "markdown",
   "id": "2e747405",
   "metadata": {},
   "source": [
    "we get $mse \\approx 4.44 $ wich is great, its 10e0. (for polynomial of order 5)"
   ]
  },
  {
   "cell_type": "markdown",
   "id": "0bedfc74",
   "metadata": {},
   "source": [
    "Import values from test.csv\n",
    "\n",
    "we use the vandermonde matrix of order 5, and the coefficents found for that order, to apprixamte and predict the y_test values,(interstengly going from order 4 to order 5 , the mse got down from 10e+18 to 10e0)\n",
    "\n",
    " \n",
    "\n",
    "using pandas we create a new csv file where, we add two additional columns (y scaled and y unscaled) on \"test.csv\" for predicted y values for the test data."
   ]
  },
  {
   "cell_type": "code",
   "execution_count": 13,
   "id": "1a9d3402",
   "metadata": {},
   "outputs": [],
   "source": [
    "df_test  = pd.read_csv(\"test.csv\")\n",
    "x1_test = df_test[\"x1\"].to_numpy()\n",
    "x2_test= df_test[\"x2\"].to_numpy()"
   ]
  },
  {
   "cell_type": "code",
   "execution_count": 16,
   "id": "64d00863",
   "metadata": {},
   "outputs": [],
   "source": [
    "V_test = build_vandermonde(x1_test,x2_test,5) \n",
    "\n",
    "y_test_unscaled = V_test @ coef_list[4] #values of predicted y with coefficenet found without using z-score scaling and using order 4 (the best one form 1-5)\n",
    "\n",
    "y_test_scaled = V_test @ coeffs # values of y with coeffs foudn WITH  z score scaling (using order 5, or you can specify the order by changing the variable, however order =5 gives the best answer)\n",
    "\n",
    "df_test['y unscled'] = y_test_unscaled\n",
    "\n",
    "df_test['y scaled'] = y_test_scaled\n",
    "\n",
    "df_test.to_csv(\"test_output.csv\", index=False)\n"
   ]
  },
  {
   "cell_type": "markdown",
   "id": "919ab568",
   "metadata": {},
   "source": [
    "I think 10e+19 is still good as the first few digits of the number are the same, its just that the magnituddes of the y-values are huge. however having more precise vvalues and an error of $\\approx 4$, is better than $10^{19}$."
   ]
  }
 ],
 "metadata": {
  "kernelspec": {
   "display_name": "base",
   "language": "python",
   "name": "python3"
  },
  "language_info": {
   "codemirror_mode": {
    "name": "ipython",
    "version": 3
   },
   "file_extension": ".py",
   "mimetype": "text/x-python",
   "name": "python",
   "nbconvert_exporter": "python",
   "pygments_lexer": "ipython3",
   "version": "3.12.7"
  }
 },
 "nbformat": 4,
 "nbformat_minor": 5
}
