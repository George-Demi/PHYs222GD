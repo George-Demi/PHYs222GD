{
 "cells": [
  {
   "cell_type": "markdown",
   "id": "6b602054",
   "metadata": {},
   "source": [
    "# Spline Interpolation of Orders 2 and 3"
   ]
  },
  {
   "cell_type": "markdown",
   "id": "afd6a2a3",
   "metadata": {},
   "source": [
    "- The user needs to enter the order of interpolation (2 or 3)\n",
    "- the user must insert the data points (at least 2) in the format: "
   ]
  },
  {
   "cell_type": "code",
   "execution_count": 2,
   "id": "86fcf920",
   "metadata": {},
   "outputs": [],
   "source": [
    "import numpy as np\n",
    "\n",
    "def spline_interpolation(data, order):\n",
    "    data = np.array(data)\n",
    "    x, y = data[:, 0], data[:, 1]\n",
    "    n = len(x)\n",
    "    \n",
    "    if n < 2:\n",
    "        raise ValueError(\"At least 2 data points\")\n",
    "    \n",
    "    if order not in [2, 3]:\n",
    "        raise ValueError(\"the order must be 2 or 3\")\n",
    "    \n",
    "    # Number of polynomial segments\n",
    "    n_segments = n - 1\n",
    "    \n",
    "    if order == 2:\n",
    "        return quadratic_spline(x, y, n_segments)\n",
    "    else:\n",
    "        return cubic_spline(x, y, n_segments)"
   ]
  },
  {
   "cell_type": "markdown",
   "id": "19658261",
   "metadata": {},
   "source": [
    "### Quadratic Splin\n",
    "For the quadratic spline we use the polynomial S_i(x) = a_i(x-x_i)^2 + b_i(x-x_i) + c_i\n",
    "To solve the linear equation we need constraints:\n",
    "- Condition 1: Each polynomial passes through its endpoints (Left and Right).\n",
    "- Condition 2: First derivatives match at interior points: S\"(x)=a_ix_(i+1) + b_i = 2a_(i+1)x_(i+1) + b_(i+1).\n",
    "- Condition 3: We still need a constraint for the left unknown, we assume a boundary condition, natural boundary condition that puts the second derivative of the first point to 0 => a_0 = 0.\n",
    "<br>\n",
    "we Start by creating the coef matrix A and vector b, to solve Ax=b, where x is the column matrix of the coefs we're trying to find, we have 3unknown for each equation. Then we set the conditions already disscussed in the hw.\n",
    "\n",
    "(Note that the reshape() function transform the result 1D vector into a 2D grid)"
   ]
  },
  {
   "cell_type": "code",
   "execution_count": 3,
   "id": "1a1fad4c",
   "metadata": {},
   "outputs": [],
   "source": [
    "def quadratic_spline(x, y, n_segments):\n",
    "    \n",
    "    n_coeffs = 3 * n_segments  # 3 coefs per segment (a, b, c)\n",
    "    A = np.zeros((n_coeffs, n_coeffs))\n",
    "    b = np.zeros(n_coeffs)\n",
    "    row = 0\n",
    "    \n",
    "    # Condition 1\n",
    "    for i in range(n_segments):\n",
    "        # Left end\n",
    "        A[row, 3*i:3*i+3] = [x[i]**2, x[i], 1]\n",
    "        b[row] = y[i]\n",
    "        row += 1\n",
    "        \n",
    "        # Right end\n",
    "        A[row, 3*i:3*i+3] = [x[i+1]**2, x[i+1], 1]\n",
    "        b[row] = y[i+1]\n",
    "        row += 1\n",
    "    \n",
    "    # Condition 2\n",
    "    for i in range(n_segments - 1):\n",
    "        A[row, 3*i:3*i+2] = [2*x[i+1], 1]      # Left derivative\n",
    "        A[row, 3*(i+1):3*(i+1)+2] = [-2*x[i+1], -1]  # Right derivative\n",
    "        b[row] = 0\n",
    "        row += 1\n",
    "    \n",
    "    # Condition 3 (BC)\n",
    "    A[row, 0] = 2 \n",
    "    b[row] = 0\n",
    "    \n",
    "    # Solve the linear system\n",
    "    coeffs = np.linalg.solve(A, b)\n",
    "    \n",
    "    return coeffs.reshape(n_segments, 3)"
   ]
  },
  {
   "cell_type": "markdown",
   "id": "ab7d7403",
   "metadata": {},
   "source": [
    "### Cubic Spline Interpolation\n",
    "We work in a similar way to the quadratic splines however the conditions slightly change and are more.\n",
    "- Condition 1: Each polynomial passes through its endpoints\n",
    "- Condition 2: First derivatives match at interior points 3a_ix_(i+1)^2 + 2b_ix_(i+1) + c_i \n",
    "- Condition 3: Second derivatives match at interior points 6a_ix_(i+1) + 2b_i\n",
    "- Condition 4: Natural boundary conditions (second derivatives = 0 at endpoints)  \n"
   ]
  },
  {
   "cell_type": "code",
   "execution_count": 4,
   "id": "b0b52693",
   "metadata": {},
   "outputs": [],
   "source": [
    "def cubic_spline(x, y, n_segments):\n",
    "\n",
    "    n_coeffs = 4 * n_segments\n",
    "    A = np.zeros((n_coeffs, n_coeffs))\n",
    "    b = np.zeros(n_coeffs)\n",
    "    row = 0\n",
    "    \n",
    "    # Condition 1\n",
    "    for i in range(n_segments):\n",
    "        # Left\n",
    "        A[row, 4*i:4*i+4] = [x[i]**3, x[i]**2, x[i], 1]\n",
    "        b[row] = y[i]\n",
    "        row += 1\n",
    "        \n",
    "        # Right \n",
    "        A[row, 4*i:4*i+4] = [x[i+1]**3, x[i+1]**2, x[i+1], 1]\n",
    "        b[row] = y[i+1]\n",
    "        row += 1\n",
    "    \n",
    "    # Condition 2\n",
    "    for i in range(n_segments - 1):\n",
    "        \n",
    "        A[row, 4*i:4*i+3] = [3*x[i+1]**2, 2*x[i+1], 1]\n",
    "        A[row, 4*(i+1):4*(i+1)+3] = [-3*x[i+1]**2, -2*x[i+1], -1]\n",
    "        b[row] = 0\n",
    "        row += 1\n",
    "    \n",
    "    # Condition 3\n",
    "    for i in range(n_segments - 1):\n",
    "       \n",
    "        A[row, 4*i:4*i+2] = [6*x[i+1], 2]\n",
    "        A[row, 4*(i+1):4*(i+1)+2] = [-6*x[i+1], -2]\n",
    "        b[row] = 0\n",
    "        row += 1\n",
    "\n",
    "    \n",
    "    #Condition 4 (BC)\n",
    "    A[row, 0:2] = [6*x[0], 2]\n",
    "    b[row] = 0\n",
    "    row += 1\n",
    "    \n",
    "    \n",
    "    A[row, 4*(n_segments-1):4*(n_segments-1)+2] = [6*x[-1], 2]\n",
    "    b[row] = 0\n",
    "    \n",
    "    # Solve \n",
    "    coeffs = np.linalg.solve(A, b)\n",
    "    \n",
    "   \n",
    "    return coeffs.reshape(n_segments, 4)"
   ]
  },
  {
   "cell_type": "markdown",
   "id": "b8b4342e",
   "metadata": {},
   "source": [
    "### Testing data\n"
   ]
  },
  {
   "cell_type": "code",
   "execution_count": 5,
   "id": "60997e20",
   "metadata": {},
   "outputs": [],
   "source": [
    "test_data = np.array([[0, 0], [1, 1], [2, 4], [3, 9], [4, 16]])"
   ]
  },
  {
   "cell_type": "markdown",
   "id": "eb2271c6",
   "metadata": {},
   "source": [
    "### Testing Quadratic Spline"
   ]
  },
  {
   "cell_type": "code",
   "execution_count": 6,
   "id": "916851d6",
   "metadata": {},
   "outputs": [
    {
     "name": "stdout",
     "output_type": "stream",
     "text": [
      "Quadratic spline coefficients:\n",
      "Coeffs are [a, b, c] for ax² + bx + c\n",
      "Segment 0: [0. 1. 0.]\n",
      "Segment 1: [ 2. -3.  2.]\n",
      "Segment 2: [ 5.92118946e-16  5.00000000e+00 -6.00000000e+00]\n",
      "Segment 3: [ 2. -7. 12.]\n",
      "\n"
     ]
    }
   ],
   "source": [
    "print(\"Quadratic spline coefficients:\")\n",
    "quad_coeffs = spline_interpolation(test_data, 2)\n",
    "print(\"Coeffs are [a, b, c] for ax² + bx + c\")\n",
    "for i, coeffs in enumerate(quad_coeffs):\n",
    "    print(f\"Segment {i}: {coeffs}\")\n",
    "print()"
   ]
  },
  {
   "cell_type": "markdown",
   "id": "a9c8f424",
   "metadata": {},
   "source": [
    "### Testing Cubic Spline\n"
   ]
  },
  {
   "cell_type": "code",
   "execution_count": 7,
   "id": "f8ee4897",
   "metadata": {},
   "outputs": [
    {
     "name": "stdout",
     "output_type": "stream",
     "text": [
      "Cubic spline coefficients:\n",
      "Coeffs [a, b, c, d] for ax³ + bx² + cx + d\n",
      "Segment 0: [0.42857143 0.         0.57142857 0.        ]\n",
      "Segment 1: [-0.14285714  1.71428571 -1.14285714  0.57142857]\n",
      "Segment 2: [ 1.42857143e-01 -7.40148683e-15  2.28571429e+00 -1.71428571e+00]\n",
      "Segment 3: [ -0.42857143   5.14285714 -13.14285714  13.71428571]\n"
     ]
    }
   ],
   "source": [
    "print(\"Cubic spline coefficients:\")\n",
    "cubic_coeffs = spline_interpolation(test_data, 3)\n",
    "print(\"Coeffs [a, b, c, d] for ax³ + bx² + cx + d\")\n",
    "for i, coeffs in enumerate(cubic_coeffs):\n",
    "    print(f\"Segment {i}: {coeffs}\")"
   ]
  }
 ],
 "metadata": {
  "kernelspec": {
   "display_name": "base",
   "language": "python",
   "name": "python3"
  },
  "language_info": {
   "codemirror_mode": {
    "name": "ipython",
    "version": 3
   },
   "file_extension": ".py",
   "mimetype": "text/x-python",
   "name": "python",
   "nbconvert_exporter": "python",
   "pygments_lexer": "ipython3",
   "version": "3.12.7"
  }
 },
 "nbformat": 4,
 "nbformat_minor": 5
}
