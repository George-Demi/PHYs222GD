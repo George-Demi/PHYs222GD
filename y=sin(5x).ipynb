{
 "cells": [
  {
   "cell_type": "markdown",
   "id": "ebc71ed4",
   "metadata": {},
   "source": [
    "### "
   ]
  },
  {
   "cell_type": "code",
   "execution_count": 66,
   "id": "bdf6ef41",
   "metadata": {},
   "outputs": [],
   "source": [
    "import numpy as np\n",
    "import matplotlib.pyplot as plt"
   ]
  },
  {
   "cell_type": "markdown",
   "id": "52b3bec9",
   "metadata": {},
   "source": [
    "#### Generating Data for y = sin(5x)\n"
   ]
  },
  {
   "cell_type": "code",
   "execution_count": 67,
   "id": "4fb2a68b",
   "metadata": {},
   "outputs": [],
   "source": [
    "def generateData():\n",
    "    xstart=-2\n",
    "    xend=2\n",
    "    dx = 0.01\n",
    "    coef=5\n",
    "\n",
    "    nbPoints= int((xend-xstart)/dx)+1\n",
    "    x = np.linspace(xstart, xend, nbPoints)\n",
    "    y = np.sin(coef*x)\n",
    "    return x,y"
   ]
  },
  {
   "cell_type": "markdown",
   "id": "c459b13b",
   "metadata": {},
   "source": [
    "### The transformation\n",
    "We have a non linear function $y = sin(ax)$, where we want to find a.\n",
    "\n",
    "We get the linear relationship $z=ax$ where $z = arcsin(y)$, a becomes the slope.\n",
    "\n",
    "For the sin fction $y ∈ [-1,1]$, and arcsine is defined on that domain.\n",
    "\n",
    "\n"
   ]
  },
  {
   "cell_type": "code",
   "execution_count": 68,
   "id": "655ac917",
   "metadata": {},
   "outputs": [],
   "source": [
    "def arcsin_transform(x,y):\n",
    "    return np.arcsin(y)"
   ]
  },
  {
   "cell_type": "markdown",
   "id": "d8bac667",
   "metadata": {},
   "source": [
    "Now we face a problem where the domain of the result (z in this case) of the transotmation is $[-π/2 ; π/2]$ (domain of arcsine).\n",
    "\n",
    "$x ∈ [-2,2]=> 5x =z ∈ [-10,10]$ ,   to deal with this we introduce a method that detects discontnituities by locating  jump greater than π/2 from both sides  in consecutive z values. "
   ]
  },
  {
   "cell_type": "code",
   "execution_count": 73,
   "id": "fc078eb4",
   "metadata": {},
   "outputs": [],
   "source": [
    "def z_correction(x, z_original):\n",
    "    z = z_original.copy()\n",
    "    \n",
    "    for i in range(len(z)):\n",
    "        # For each point, determine which \"period\" it should be in\n",
    "        expected_value = 5 * x[i]  # What z should be if z = 5x\n",
    "        \n",
    "        # Find the closest multiple of π to add\n",
    "        diff = expected_value - z[i]\n",
    "        correction = round(diff / np.pi) * np.pi\n",
    "        z[i] += correction\n",
    "    \n",
    "    return z"
   ]
  },
  {
   "cell_type": "markdown",
   "id": "7b658c67",
   "metadata": {},
   "source": [
    "We now need to estimte the coeff 'a' from  $z = ax$ by using least squares linear regression.\n",
    "to find $a$ we use the loss function $L(a)= \\sum (z_i - ax_i)^2$\n",
    "\n",
    "we expand: $ L(a) = \\sum z_i^2 - 2az_ix_i + a^2x_i^2$\n",
    "\n",
    "we set the derivative wrt a equal to zero: $ \\frac{dL}{da} = 2ax_i^2 - 2z_ix_i = 0$\n",
    "\n",
    "And so we aplly the fla $a = Σ(x_iz_i) / Σ(x_i²)$"
   ]
  },
  {
   "cell_type": "code",
   "execution_count": 74,
   "id": "78e868a6",
   "metadata": {},
   "outputs": [],
   "source": [
    "def estimate_coefficient(x_data, z_data):\n",
    "    numerator = np.sum(x_data * z_data)\n",
    "    denominator = np.sum(x_data**2)\n",
    "    coefficient = numerator / denominator\n",
    "    \n",
    "    return coefficient"
   ]
  },
  {
   "cell_type": "markdown",
   "id": "6f462e51",
   "metadata": {},
   "source": [
    "#### Least Square Polynomial function from earlier exercice"
   ]
  },
  {
   "cell_type": "code",
   "execution_count": 75,
   "id": "20deefed",
   "metadata": {},
   "outputs": [],
   "source": [
    "def leastSquaresPolynomial(data, order):\n",
    "    # Convert data to numpy array and extract x and y values\n",
    "    data = np.array(data)\n",
    "    x = data[:, 0]\n",
    "    y = data[:, 1]\n",
    "    \n",
    "    n = len(x)\n",
    "    k = order\n",
    "    \n",
    "    # Check if we have enough data points\n",
    "    if n <= k:\n",
    "        raise ValueError(f\"Need more than {k} data points to fit polynomial of order {k}\")\n",
    "    \n",
    "    # Construct the Vandermonde matrix A\n",
    "    A = np.zeros((n, k + 1))\n",
    "    for i in range(n):\n",
    "        for j in range(k + 1):\n",
    "            A[i, j] = x[i] ** j\n",
    "    \n",
    "    # Solve the normal equation: (A^T A) c = A^T y\n",
    "    ATA = np.dot(A.T, A)\n",
    "    ATy = np.dot(A.T, y)\n",
    "    coefficients = np.linalg.solve(ATA, ATy)\n",
    "    \n",
    "    return coefficients"
   ]
  },
  {
   "cell_type": "markdown",
   "id": "d2317283",
   "metadata": {},
   "source": [
    "TEsting"
   ]
  },
  {
   "cell_type": "code",
   "execution_count": 76,
   "id": "bf95aabb",
   "metadata": {},
   "outputs": [],
   "source": [
    "x= generateData()[0]\n",
    "y= generateData()[1]\n",
    "\n",
    "z = z_correction(x,arcsin_transform(x,y))\n",
    "\n",
    "transformed_data =[[x[i], z[i]] for i in range(len(x)) ]\n",
    "coefficients = leastSquaresPolynomial(transformed_data, order=1)"
   ]
  },
  {
   "cell_type": "code",
   "execution_count": 82,
   "id": "32160a83",
   "metadata": {},
   "outputs": [
    {
     "name": "stdout",
     "output_type": "stream",
     "text": [
      "Polynomial coefficients: [a0, a1] = [7.89330724e-17 4.96589237e+00]\n",
      "Intercept a0 = 0.000000\n",
      "Slope a1 = 4.965892\n",
      "\n",
      "Analytical Solution\n",
      "a = 4.965892\n",
      "\n",
      "Results:\n",
      "true coef = 5\n",
      "leastSquaresPolynomial: 4.965892\n",
      "Direct analytical: 4.965892\n"
     ]
    }
   ],
   "source": [
    "print(f\"Polynomial coefficients: [a0, a1] = {coefficients}\")\n",
    "print(f\"Intercept a0 = {coefficients[0]:.6f}\")\n",
    "print(f\"Slope a1 = {coefficients[1]:.6f}\")\n",
    "\n",
    "#Compare with direct analytical solution\n",
    "print(\"\\nAnalytical Solution\")\n",
    "print( f\"a = {estimate_coefficient(x,z):.6f}\")\n",
    "\n",
    "#  Results\n",
    "print(f\"\\nResults:\")\n",
    "print(f\"true coef = 5\")\n",
    "print(f\"leastSquaresPolynomial: {coefficients[1]:.6f}\")\n",
    "print(f\"Direct analytical: {estimate_coefficient(x,z):.6f}\")\n"
   ]
  }
 ],
 "metadata": {
  "kernelspec": {
   "display_name": "base",
   "language": "python",
   "name": "python3"
  },
  "language_info": {
   "codemirror_mode": {
    "name": "ipython",
    "version": 3
   },
   "file_extension": ".py",
   "mimetype": "text/x-python",
   "name": "python",
   "nbconvert_exporter": "python",
   "pygments_lexer": "ipython3",
   "version": "3.12.7"
  }
 },
 "nbformat": 4,
 "nbformat_minor": 5
}
