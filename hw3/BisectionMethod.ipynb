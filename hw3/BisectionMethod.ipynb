{
 "cells": [
  {
   "cell_type": "markdown",
   "id": "05f9ed44",
   "metadata": {},
   "source": [
    "# Bisection methode\n",
    "## Approach\n",
    "- detecting the range of roots points: lets star with assuming from -10 to 10, we will use 0.5 to start with\n"
   ]
  },
  {
   "cell_type": "code",
   "execution_count": 27,
   "id": "12c1b8ea",
   "metadata": {},
   "outputs": [],
   "source": [
    "import numpy as np"
   ]
  },
  {
   "cell_type": "code",
   "execution_count": 28,
   "id": "5973b9e8",
   "metadata": {},
   "outputs": [
    {
     "name": "stdout",
     "output_type": "stream",
     "text": [
      "Root is between -1.8000000000000291 and -1.700000000000029\n",
      "Root is between 1.6999999999999584 and 1.7999999999999585\n",
      "[-1.8  1.7]\n",
      "[-1.7  1.8]\n"
     ]
    }
   ],
   "source": [
    "def f(x):\n",
    "    return x**2-3\n",
    "\n",
    "a = np.array([]) # to store the start of intervals\n",
    "b = np.array([]) # to store the end of intervals\n",
    "\n",
    "for i in np.arange(-10,10, 0.1):\n",
    "\n",
    "    if f(i) * f(i + 0.1) < 0:\n",
    "        print(f\"Root is between {i} and {i + 0.1}\")\n",
    "        a = np.append(a,i)\n",
    "        b = np.append(b,i + 0.1)\n",
    "\n",
    "print (a)\n",
    "print(b)"
   ]
  },
  {
   "cell_type": "markdown",
   "id": "cb4ab3f4",
   "metadata": {},
   "source": []
  },
  {
   "cell_type": "code",
   "execution_count": 29,
   "id": "09395c42",
   "metadata": {},
   "outputs": [
    {
     "name": "stdout",
     "output_type": "stream",
     "text": [
      "-1.732031250000029\n",
      "1.7320312499999584\n"
     ]
    }
   ],
   "source": [
    "def bisectionRecursive (f,a,b):\n",
    "    c = (b+a)/2\n",
    "    if abs(a-b) < 0.0001:\n",
    "        return a\n",
    "    else:\n",
    "        if f(a)*f(c) < 0:\n",
    "            return bisectionRecursive(f,a,c)\n",
    "        else:\n",
    "            return bisectionRecursive(f,b,c)\n",
    "\n",
    "print(bisectionRecursive (f,a[0],b[0]))\n",
    "print(bisectionRecursive (f,a[1],b[1]))"
   ]
  },
  {
   "cell_type": "code",
   "execution_count": 30,
   "id": "2fa02691",
   "metadata": {},
   "outputs": [
    {
     "name": "stdout",
     "output_type": "stream",
     "text": [
      "the  1th root is 1.7320312499999584\n",
      "the  2th root is -1.732031250000029\n"
     ]
    }
   ],
   "source": [
    "\n",
    "\n",
    "def callBisection ():\n",
    "    j = a.size\n",
    "\n",
    "    for i in range(j):\n",
    "        print(f'the  {i+1}th root is {bisectionRecursive (f,a[i-1],b[i-1])}' )\n",
    "\n",
    "    \n",
    "callBisection()"
   ]
  }
 ],
 "metadata": {
  "kernelspec": {
   "display_name": "base",
   "language": "python",
   "name": "python3"
  },
  "language_info": {
   "codemirror_mode": {
    "name": "ipython",
    "version": 3
   },
   "file_extension": ".py",
   "mimetype": "text/x-python",
   "name": "python",
   "nbconvert_exporter": "python",
   "pygments_lexer": "ipython3",
   "version": "3.12.7"
  }
 },
 "nbformat": 4,
 "nbformat_minor": 5
}
