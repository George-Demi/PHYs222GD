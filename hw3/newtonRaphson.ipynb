{
 "cells": [
  {
   "cell_type": "markdown",
   "id": "45eb9663",
   "metadata": {},
   "source": [
    "# Newton-Raphson method"
   ]
  },
  {
   "cell_type": "markdown",
   "id": "c734249d",
   "metadata": {},
   "source": [
    "tangent on a point of the function is:\n",
    "$ y = f(x_0) + f'(x_0)(x-x_0) $"
   ]
  },
  {
   "cell_type": "code",
   "execution_count": 18,
   "id": "decdbd59",
   "metadata": {},
   "outputs": [],
   "source": [
    "def f(x):\n",
    "    return x**3 + x -3\n",
    "\n",
    "def fprime(x):\n",
    "    return 3*x**2 + 1\n",
    "\n",
    "x0 = 3"
   ]
  },
  {
   "cell_type": "code",
   "execution_count": 20,
   "id": "503c6d20",
   "metadata": {},
   "outputs": [],
   "source": [
    "def newton(x0):\n",
    "    xn = (fprime(x0)* x0 - f(x0))/fprime(x0)\n",
    "    if abs(xn - x0) < 0.0000001:\n",
    "        return xn\n",
    "    else:\n",
    "        return newton (xn)\n",
    "    \n"
   ]
  },
  {
   "cell_type": "code",
   "execution_count": 21,
   "id": "cb7b623d",
   "metadata": {},
   "outputs": [
    {
     "name": "stdout",
     "output_type": "stream",
     "text": [
      "1.2134116627622296\n"
     ]
    }
   ],
   "source": [
    "print(newton(x0))"
   ]
  }
 ],
 "metadata": {
  "kernelspec": {
   "display_name": "base",
   "language": "python",
   "name": "python3"
  },
  "language_info": {
   "codemirror_mode": {
    "name": "ipython",
    "version": 3
   },
   "file_extension": ".py",
   "mimetype": "text/x-python",
   "name": "python",
   "nbconvert_exporter": "python",
   "pygments_lexer": "ipython3",
   "version": "3.12.7"
  }
 },
 "nbformat": 4,
 "nbformat_minor": 5
}
