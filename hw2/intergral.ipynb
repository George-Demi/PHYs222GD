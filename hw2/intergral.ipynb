{
 "cells": [
  {
   "cell_type": "markdown",
   "id": "cdd7a27d",
   "metadata": {},
   "source": [
    "# Integral apporximations\n",
    "TO start we choose the function $ f(x) = x^2 + \\sin(x) $\n",
    "\n",
    "\n",
    "Lets start with defining the function and its antiderivative\n",
    " $F(x) = x^3 / 3 - \\cos(x)$\n"
   ]
  },
  {
   "cell_type": "code",
   "execution_count": 59,
   "id": "46ae0a27",
   "metadata": {},
   "outputs": [],
   "source": [
    "import numpy as np \n",
    "import matplotlib.pyplot as plt \n",
    "\n",
    "def f(x):\n",
    "    return x**2 + np.sin(x)\n",
    "\n",
    "def F(x):\n",
    "    return (x**3)/3 - np.cos(x)\n",
    "    "
   ]
  },
  {
   "cell_type": "markdown",
   "id": "73b3f5c1",
   "metadata": {},
   "source": [
    "Now we need to choose integration bounds and step sizes"
   ]
  },
  {
   "cell_type": "code",
   "execution_count": 60,
   "id": "3e5b4200",
   "metadata": {},
   "outputs": [],
   "source": [
    "a = 0\n",
    "b = 2\n",
    "\n",
    "step_sizes = [0.2, 0.1, 0.05]"
   ]
  },
  {
   "cell_type": "markdown",
   "id": "a846d54e",
   "metadata": {},
   "source": [
    "Calculate the exact integral"
   ]
  },
  {
   "cell_type": "code",
   "execution_count": 61,
   "id": "3dbd4a98",
   "metadata": {},
   "outputs": [
    {
     "name": "stdout",
     "output_type": "stream",
     "text": [
      "Exact integral: 4.082813503213809\n"
     ]
    }
   ],
   "source": [
    "exact_int = F(b) - F(a)\n",
    "print(f\"Exact integral: {exact_int}\")"
   ]
  },
  {
   "cell_type": "markdown",
   "id": "5257788b",
   "metadata": {},
   "source": [
    "### Riemann Sum\n",
    "we divide [a,b] into n recnangles of width h"
   ]
  },
  {
   "cell_type": "code",
   "execution_count": 62,
   "id": "80162798",
   "metadata": {},
   "outputs": [],
   "source": [
    "def riemann(x,h):\n",
    "    y_vals = f(x[:-1]) # f(x_0), f(x_1), ..., f(x_(n-1))\n",
    "    \n",
    "    integral_approx = np.sum(y_vals) * h\n",
    "    return integral_approx\n"
   ]
  },
  {
   "cell_type": "markdown",
   "id": "9786e306",
   "metadata": {},
   "source": [
    "### Trapezoid Rule \n",
    "We approximate integral by conncecting consecutvie points with straight line to form trapezoids. the area of each trapezoid is\n",
    "\n",
    " $ = h/2 * [f(x_0) + 2f(x_1) + 2f(x_2) + ... + 2 f(x_{n-1}) + f(x_n)]$"
   ]
  },
  {
   "cell_type": "code",
   "execution_count": 63,
   "id": "104b9c8f",
   "metadata": {},
   "outputs": [],
   "source": [
    "def trapezoid(x,h):\n",
    "    y_vals = f(x) # f(x_0), f(x_1), ..., f(x_n)\n",
    "    \n",
    "    integral_approx = (h/2) * (y_vals[0] + 2*np.sum(y_vals[1:-1]) + y_vals[-1])\n",
    "    return integral_approx"
   ]
  },
  {
   "cell_type": "markdown",
   "id": "e8cd2599",
   "metadata": {},
   "source": [
    "### Simpson's Rule\n",
    "we approximate by fitting parabolas through 3 consecutive points\n",
    "Formula:\n",
    "\n",
    " $$ (h/3) × [f(x₀) + 4f(x₁) + 2f(x₂) + 4f(x₃) + 2f(x₄) + ... + 4f(xₙ₋₁) + f(xₙ)]$$\n"
   ]
  },
  {
   "cell_type": "code",
   "execution_count": null,
   "id": "5e5142eb",
   "metadata": {},
   "outputs": [],
   "source": [
    "def simpson(x,h):\n",
    "    y_vals = f(x) # f(x_0), f(x_1), ..., f(x_n)\n",
    "    n = len(y_vals)\n",
    "    integral_approx = y_vals[0] + y_vals[-1] # first and last terms have coef 1\n",
    "\n",
    "    for i in range (1, n-1):\n",
    "        if i % 2 == 0: # even \n",
    "            integral_approx += 2 * y_vals[i]\n",
    "        else: # odd \n",
    "            integral_approx += 4 * y_vals[i]\n",
    "            \n",
    "    return integral_approx*(h/3)"
   ]
  },
  {
   "cell_type": "code",
   "execution_count": 65,
   "id": "d498d2eb",
   "metadata": {},
   "outputs": [
    {
     "name": "stdout",
     "output_type": "stream",
     "text": [
      "\n",
      "Exact integral value: 4.082814\n",
      "Step sizes: [0.2, 0.1, 0.05]\n",
      "Riemann: [3.6004934544163114, 3.839501646108167, 3.960619357991881]\n",
      "Trapezoid: [4.091423197098879, 4.084966517449451, 4.083351793662522]\n",
      "Simpson: [4.082826151381206, 4.082814290899642, 4.0828135524002125]\n"
     ]
    }
   ],
   "source": [
    "riemannRes = []\n",
    "trapezoidRes = []\n",
    "simpsonRes = []\n",
    "actual_step_sizes =  []\n",
    "\n",
    "for h in step_sizes:\n",
    "    n = int((b - a) / h) \n",
    "    if n % 2 == 1:\n",
    "        n+=1\n",
    "\n",
    "    h_actual = (b - a) / n\n",
    "    actual_step_sizes.append(h_actual)\n",
    "\n",
    "    n_points = n + 1\n",
    "    x = np.linspace(a, b, n_points)\n",
    "\n",
    "    riemannRes.append(riemann(x, h_actual))\n",
    "    trapezoidRes.append(trapezoid(x, h_actual))\n",
    "    simpsonRes.append(simpson(x, h_actual))\n",
    "\n",
    "    \n",
    "\n",
    "print(f\"\\nExact integral value: {exact_int:.6f}\")   \n",
    "print(f\"Step sizes: {actual_step_sizes}\")\n",
    "print(f\"Riemann: {riemannRes}\")\n",
    "print(f\"Trapezoid: {trapezoidRes}\")\n",
    "print(f\"Simpson: {simpsonRes}\")"
   ]
  },
  {
   "cell_type": "markdown",
   "id": "4711c5e6",
   "metadata": {},
   "source": [
    "### Error calculation\n",
    "We convert to numpy arrays to make the calculations easier"
   ]
  },
  {
   "cell_type": "code",
   "execution_count": 68,
   "id": "e70d1ec1",
   "metadata": {},
   "outputs": [
    {
     "name": "stdout",
     "output_type": "stream",
     "text": [
      "\n",
      "Step Size | Riemann Error | Trapezoid Error| Simpson Error\n",
      "0.2000    | 0.48232005    | 0.00860969     | 0.00001265\n",
      "0.1000    | 0.24331186    | 0.00215301     | 0.00000079\n",
      "0.0500    | 0.12219415    | 0.00053829     | 0.00000005\n"
     ]
    }
   ],
   "source": [
    "riemannRes = np.array(riemannRes)\n",
    "trapezoidRes = np.array(trapezoidRes)\n",
    "simpsonRes = np.array(simpsonRes)\n",
    "actual_step_sizes = np.array(actual_step_sizes)\n",
    "\n",
    "riemann_errors = np.abs(riemannRes - exact_int)\n",
    "trapezoid_errors = np.abs(trapezoidRes - exact_int)\n",
    "simpson_errors = np.abs(simpsonRes - exact_int)\n",
    "print(\"\\nStep Size | Riemann Error | Trapezoid Error| Simpson Error\")\n",
    "for i in range(len(actual_step_sizes)):\n",
    "    print(f\"{actual_step_sizes[i]:.4f}    | {riemann_errors[i]:.8f}    | {trapezoid_errors[i]:.8f}     | {simpson_errors[i]:.8f}\")\n"
   ]
  },
  {
   "cell_type": "markdown",
   "id": "49b0b24c",
   "metadata": {},
   "source": [
    "### Plot\n"
   ]
  },
  {
   "cell_type": "code",
   "execution_count": 69,
   "id": "830f327a",
   "metadata": {},
   "outputs": [
    {
     "data": {
      "image/png": "[encoded data removed]",
      "text/plain": [
       "<Figure size 1000x600 with 1 Axes>"
      ]
     },
     "metadata": {},
     "output_type": "display_data"
    }
   ],
   "source": [
    "plt.figure(figsize=(10, 6))\n",
    "\n",
    "plt.plot(actual_step_sizes, riemann_errors, 'o-', label='Riemann Sum', linewidth=2)\n",
    "plt.plot(actual_step_sizes, trapezoid_errors, 's-', label='Trapezoidal Rule', linewidth=2)\n",
    "plt.plot(actual_step_sizes, simpson_errors, '^-', label=\"Simpson's Rule\", linewidth=2)\n",
    "\n",
    "plt.xlabel('Step Size (h)')\n",
    "plt.ylabel('Absolute Error')\n",
    "plt.title('Numerical Integration Error vs Step Size')\n",
    "plt.legend()\n",
    "plt.grid(True, alpha=0.3)\n",
    "plt.gca().invert_xaxis()  # Smaller step sizes on the right\n",
    "plt.show()"
   ]
  },
  {
   "cell_type": "markdown",
   "id": "be265856",
   "metadata": {},
   "source": [
    "We can notice that the simpsons methode is the most accurate, and maintains it all over the step sizes.\n",
    "the trapezoidal approximation gives also a good approximation howerver it is not as precise as the simpsons approximation. \n",
    "THE Riemann sum is the least accurate of the 3, as it has large errors, however as step sizes decrease the error decreases significanly with it."
   ]
  }
 ],
 "metadata": {
  "kernelspec": {
   "display_name": "base",
   "language": "python",
   "name": "python3"
  },
  "language_info": {
   "codemirror_mode": {
    "name": "ipython",
    "version": 3
   },
   "file_extension": ".py",
   "mimetype": "text/x-python",
   "name": "python",
   "nbconvert_exporter": "python",
   "pygments_lexer": "ipython3",
   "version": "3.12.7"
  }
 },
 "nbformat": 4,
 "nbformat_minor": 5
}
