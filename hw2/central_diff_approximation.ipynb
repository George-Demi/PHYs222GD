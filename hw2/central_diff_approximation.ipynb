{
 "cells": [
  {
   "cell_type": "markdown",
   "id": "bb8710cd",
   "metadata": {},
   "source": [
    "## Central Difference Approximation For First Order Derivative"
   ]
  },
  {
   "cell_type": "code",
   "execution_count": 1,
   "id": "13431033",
   "metadata": {},
   "outputs": [],
   "source": [
    "import numpy as np\n",
    "import matplotlib.pyplot as plt\n"
   ]
  },
  {
   "cell_type": "markdown",
   "id": "dd4d845f",
   "metadata": {},
   "source": [
    "Our function is  \n",
    "$$ f(x) = \\sin(x) + 0.5x^3$$\n",
    "with first order derivave:\n",
    "$$ f'(x) = \\cos (x) + 1.5x^2 $$\n",
    "With second order derivative:\n",
    "$$f\"(x) = -\\sin(x) + 3x $$"
   ]
  },
  {
   "cell_type": "code",
   "execution_count": 2,
   "id": "f551c928",
   "metadata": {},
   "outputs": [],
   "source": [
    "def f(x):\n",
    "    return np.sin(x) + 0.5 * x**3\n",
    "\n",
    "def f_prime(x):\n",
    "    return np.cos(x) + 1.5 * x**2"
   ]
  },
  {
   "cell_type": "markdown",
   "id": "2c2f57f7",
   "metadata": {},
   "source": [
    "To approximate the second-order derivative using the central difference algorithm, we derive the following using taylor series.\n",
    "$$ f(x + h)= f(x) + hf' + \\frac{h^2}{2} f\"(x) + \\frac{h^3}{6} f'''(x) + \\frac{h^4}{24}f^{(4)}(x) + O(h^5)$$\n",
    "$$ f(x - h)= f(x) - hf' + \\frac{h^2}{2} f\"(x) - \\frac{h^3}{6} f'''(x) + \\frac{h^4}{24}f^{(4)}(x) - O(h^5)$$\n",
    "\n",
    "we take their difference , to get; \n",
    "$$ f(x+h) -f(x-h) = 2h f'(x)$$"
   ]
  },
  {
   "cell_type": "code",
   "execution_count": 3,
   "id": "f6c99106",
   "metadata": {},
   "outputs": [],
   "source": [
    "\n",
    "# derivative approximation using 1 point forward difference\n",
    "def f_prime_numerical(x, h):\n",
    "    return (f(x + h) - f(x)) / h\n",
    "\n",
    "\n",
    "# derivative using central difference\n",
    "def fp_central_diff(x, h):\n",
    "    return (f(x+h) - f(x-h))/ (2*h)\n",
    "\n"
   ]
  },
  {
   "cell_type": "markdown",
   "id": "862b0567",
   "metadata": {},
   "source": [
    "Choosing three different step sizes"
   ]
  },
  {
   "cell_type": "code",
   "execution_count": 4,
   "id": "cee4f4ce",
   "metadata": {},
   "outputs": [],
   "source": [
    "step_sizes = [0.2, 0.01, 0.05]"
   ]
  },
  {
   "cell_type": "code",
   "execution_count": 5,
   "id": "3c00a213",
   "metadata": {},
   "outputs": [],
   "source": [
    "x_min, x_max = -2, 2\n",
    "x_arrays = []\n",
    "y_original_arrays = []\n",
    "y_derivative_arrays = []\n",
    "y_numerical_arrays = []\n",
    "y_central_diff_arrays = []\n",
    "\n",
    "for h in step_sizes:\n",
    "    n_points = int((x_max - x_min) / h) + 1\n",
    "    x = np.linspace(x_min, x_max, n_points)\n",
    "    \n",
    "    y_original = f(x)  \n",
    "    y_derivative = f_prime(x)       \n",
    "    y_numerical = f_prime_numerical(x, h)\n",
    "    y_central_diff = fp_central_diff(x, h)\n",
    "    \n",
    "    # Store all arrays for this step size\n",
    "    x_arrays.append(x)\n",
    "    y_original_arrays.append(y_original)\n",
    "    y_derivative_arrays.append(y_derivative)\n",
    "    y_numerical_arrays.append(y_numerical)\n",
    "    y_central_diff_arrays.append(y_central_diff)"
   ]
  },
  {
   "cell_type": "markdown",
   "id": "657eb6b6",
   "metadata": {},
   "source": [
    "### Error calculation\n",
    "\n",
    "we use the error formula: $ errror = \\sum |f_{approx}'(x_i)-f'(x_i)| $"
   ]
  },
  {
   "cell_type": "code",
   "execution_count": 6,
   "id": "a6cf5420",
   "metadata": {},
   "outputs": [],
   "source": [
    "forward_errors = []\n",
    "central_errors = []\n",
    "\n",
    "for i in range(len(step_sizes)):\n",
    "    # Error for forward difference\n",
    "    forward_error = np.sum(np.abs(y_numerical_arrays[i] - y_derivative_arrays[i]))\n",
    "    forward_errors.append(forward_error)\n",
    "    \n",
    "    # Error for central difference  \n",
    "    central_error = np.sum(np.abs(y_central_diff_arrays[i] - y_derivative_arrays[i]))\n",
    "    central_errors.append(central_error)\n"
   ]
  },
  {
   "cell_type": "code",
   "execution_count": 7,
   "id": "1f364bb4",
   "metadata": {},
   "outputs": [
    {
     "data": {
      "image/png": "[encoded data removed]",
      "text/plain": [
       "<Figure size 640x480 with 1 Axes>"
      ]
     },
     "metadata": {},
     "output_type": "display_data"
    }
   ],
   "source": [
    "# Sort by step size\n",
    "sorted_indices = np.argsort(step_sizes)\n",
    "step_sizes_sorted = [step_sizes[i] for i in sorted_indices]\n",
    "forward_errors_sorted = [forward_errors[i] for i in sorted_indices]\n",
    "central_errors_sorted = [central_errors[i] for i in sorted_indices]\n",
    "\n",
    "plt.plot(step_sizes_sorted, forward_errors_sorted, 'o-', label='Forward Difference')\n",
    "plt.plot(step_sizes_sorted, central_errors_sorted, 's-', label='Central Difference')\n",
    "\n",
    "\n",
    "plt.xlabel('Step Size (h)')\n",
    "plt.ylabel('Total Error')\n",
    "plt.title('Numerical Differentiation Error vs Step Size')\n",
    "plt.legend()\n",
    "plt.grid(True)\n",
    "plt.show()"
   ]
  },
  {
   "cell_type": "code",
   "execution_count": 52,
   "id": "d6a66f97",
   "metadata": {},
   "outputs": [
    {
     "name": "stdout",
     "output_type": "stream",
     "text": [
      "[0.2, 0.01, 0.05]\n",
      "[5.115994884969557, 4.609363649952134, 4.712548836153847]\n",
      "[0.36247186161734457, 0.017025984736949606, 0.08627346700509131]\n"
     ]
    }
   ],
   "source": [
    "print(step_sizes)\n",
    "print(forward_errors)\n",
    "print(central_errors)"
   ]
  },
  {
   "cell_type": "markdown",
   "id": "8121fac5",
   "metadata": {},
   "source": [
    "From the plot and the values of error, we can see that the forward difference approximation method has larger values of error, but the central difference approximation for the first derivative of the function gives a way better approximation, with error values significanly smaller."
   ]
  }
 ],
 "metadata": {
  "kernelspec": {
   "display_name": "base",
   "language": "python",
   "name": "python3"
  },
  "language_info": {
   "codemirror_mode": {
    "name": "ipython",
    "version": 3
   },
   "file_extension": ".py",
   "mimetype": "text/x-python",
   "name": "python",
   "nbconvert_exporter": "python",
   "pygments_lexer": "ipython3",
   "version": "3.12.7"
  }
 },
 "nbformat": 4,
 "nbformat_minor": 5
}
