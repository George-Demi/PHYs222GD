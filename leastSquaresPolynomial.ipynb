{
 "cells": [
  {
   "cell_type": "markdown",
   "id": "34a65401",
   "metadata": {},
   "source": [
    "# Least Square Polynomial fitting"
   ]
  },
  {
   "cell_type": "code",
   "execution_count": 2,
   "id": "cacdd745",
   "metadata": {},
   "outputs": [],
   "source": [
    "import numpy as np"
   ]
  },
  {
   "cell_type": "markdown",
   "id": "139eca18",
   "metadata": {},
   "source": [
    "### Main function\n"
   ]
  },
  {
   "cell_type": "code",
   "execution_count": null,
   "id": "dffb936a",
   "metadata": {},
   "outputs": [],
   "source": [
    "def leastSquaresPolynomial(data, order):\n",
    "    # Convert data to numpy array and extract x and y values\n",
    "    data = np.array(data)\n",
    "    x = data[:, 0]\n",
    "    y = data[:, 1]\n",
    "    \n",
    "    n = len(x)\n",
    "    k = order\n",
    "    \n",
    "    # Check if we have enough data points\n",
    "    if n <= k:\n",
    "        raise ValueError(f\"Need more than {k} data points to fit polynomial of order {k}\")\n",
    "    \n",
    "    #Vandermonde matrix A\n",
    "    A = np.zeros((n, k + 1))\n",
    "    for i in range(n):\n",
    "        for j in range(k + 1):\n",
    "            A[i, j] = x[i] ** j\n",
    "    \n",
    "    # Solve the normal equation: (A^T A) c = A^T y\n",
    "    ATA = np.dot(A.T, A)\n",
    "    ATy = np.dot(A.T, y)\n",
    "    coefficients = np.linalg.solve(ATA, ATy)\n",
    "    \n",
    "    return coefficients"
   ]
  },
  {
   "cell_type": "markdown",
   "id": "c76557fe",
   "metadata": {},
   "source": [
    "### Helper function "
   ]
  },
  {
   "cell_type": "code",
   "execution_count": 4,
   "id": "bde735ed",
   "metadata": {},
   "outputs": [],
   "source": [
    "def evaluatePolynomial(coefficients, x):\n",
    "    x = np.asarray(x)\n",
    "    result = np.zeros_like(x, dtype=float)\n",
    "    \n",
    "    for i, coeff in enumerate(coefficients):\n",
    "        result += coeff * (x ** i)\n",
    "    \n",
    "    return result"
   ]
  },
  {
   "cell_type": "markdown",
   "id": "9629a086",
   "metadata": {},
   "source": [
    "## Example usage and test"
   ]
  },
  {
   "cell_type": "code",
   "execution_count": 5,
   "id": "b27ce157",
   "metadata": {},
   "outputs": [
    {
     "name": "stdout",
     "output_type": "stream",
     "text": [
      "Fitted coefficients: [2.05677024 2.99844742 0.99265837]\n",
      "At x=1.5, y=8.788\n"
     ]
    }
   ],
   "source": [
    "\n",
    "np.random.seed(42)\n",
    "x_test = np.linspace(-2, 2, 10)\n",
    "y_test = 2 + 3*x_test + x_test**2 + 0.1*np.random.randn(len(x_test))\n",
    "\n",
    "# Format data\n",
    "data = [[x, y] for x, y in zip(x_test, y_test)]\n",
    "\n",
    "# Fit polynomial of order 2\n",
    "coeffs = leastSquaresPolynomial(data, 2)\n",
    "print(\"Fitted coefficients:\", coeffs)\n",
    "\n",
    "# Test evaluation\n",
    "x_eval = 1.5\n",
    "y_eval = evaluatePolynomial(coeffs, x_eval)\n",
    "print(f\"At x={x_eval}, y={y_eval:.3f}\")"
   ]
  }
 ],
 "metadata": {
  "kernelspec": {
   "display_name": "base",
   "language": "python",
   "name": "python3"
  },
  "language_info": {
   "codemirror_mode": {
    "name": "ipython",
    "version": 3
   },
   "file_extension": ".py",
   "mimetype": "text/x-python",
   "name": "python",
   "nbconvert_exporter": "python",
   "pygments_lexer": "ipython3",
   "version": "3.12.7"
  }
 },
 "nbformat": 4,
 "nbformat_minor": 5
}
