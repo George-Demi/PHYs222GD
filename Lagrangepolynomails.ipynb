{
 "cells": [
  {
   "cell_type": "markdown",
   "id": "8e2d21ac",
   "metadata": {},
   "source": [
    "### Lagrange Polyomial"
   ]
  },
  {
   "cell_type": "code",
   "execution_count": 10,
   "id": "afa49b44",
   "metadata": {},
   "outputs": [],
   "source": [
    "import numpy as np"
   ]
  },
  {
   "cell_type": "code",
   "execution_count": null,
   "id": "128d8978",
   "metadata": {},
   "outputs": [],
   "source": [
    "def aitken_recursive_polynomial(arr, i=0, j=None):\n",
    "    if j is None:\n",
    "      j = len(arr) - 1\n",
    "    \n",
    "    # Base case: single point \n",
    "    if i == j:\n",
    "        return str(arr[i][1])  # Just the y-value \n",
    "    \n",
    "    #  x-values for this recursive step\n",
    "    xi = arr[i][0]\n",
    "    xj = arr[j][0]\n",
    "    \n",
    "    # Recursive\n",
    "    Pijmin1 = aitken_recursive_polynomial(arr, i, j-1)  # P(i, j-1)\n",
    "    Piplus1j = aitken_recursive_polynomial(arr, i+1, j)   # P(i+1, j)\n",
    "    \n",
    "    # Apply Aitken's recursive formula\n",
    "    return f\"((x - {xj}) * ({Pijmin1}) - (x - {xi}) * ({Piplus1j})) / ({xi} - {xj})\"\n"
   ]
  },
  {
   "cell_type": "code",
   "execution_count": null,
   "id": "e3a6dcce",
   "metadata": {},
   "outputs": [],
   "source": [
    "def lagrangePolynomialAitken(arr):\n",
    "    if len(arr) == 0:\n",
    "        return \"P(x) = 0\"\n",
    "    \n",
    "    return f\"P(x) = {aitken_recursive_polynomial(arr)}\""
   ]
  },
  {
   "cell_type": "code",
   "execution_count": 13,
   "id": "1ad9f719",
   "metadata": {},
   "outputs": [
    {
     "name": "stdout",
     "output_type": "stream",
     "text": [
      "3-point example:\n",
      "P(x) = ((x - 5) * (((x - 3) * (2) - (x - 1) * (4)) / (1 - 3)) - (x - 1) * (((x - 5) * (4) - (x - 3) * (6)) / (3 - 5))) / (1 - 5)\n",
      "\n"
     ]
    }
   ],
   "source": [
    "arr = np.array([[1, 2], [3, 4], [5, 6]])\n",
    "polynomial = lagrangePolynomialAitken(arr)\n",
    "print(\"3-point example:\")\n",
    "print(polynomial)\n",
    "print()"
   ]
  },
  {
   "cell_type": "code",
   "execution_count": null,
   "id": "f1a5bb3a",
   "metadata": {},
   "outputs": [
    {
     "name": "stdout",
     "output_type": "stream",
     "text": [
      "6-point example (first part):\n",
      "P(x) = ((x - 6) * (((x - 5) * (((x - 4) * (((x - 3) * (((x - 2) * (1) - (x - 1) * (4)) / (1 - 2)) - (x - 1) * (((x - 3) * (4) - (x - 2) * (9)) / (2 - 3))) / (1 - 3)) - (x - 1) * (((x - 4) * (((x - 3) * (4) - (x - 2) * (9)) / (2 - 3)) - (x - 2) * (((x - 4) * (9) - (x - 3) * (16)) / (3 - 4))) / (2 - 4))) / (1 - 4)) - (x - 1) * (((x - 5) * (((x - 4) * (((x - 3) * (4) - (x - 2) * (9)) / (2 - 3)) - (x - 2) * (((x - 4) * (9) - (x - 3) * (16)) / (3 - 4))) / (2 - 4)) - (x - 2) * (((x - 5) * (((x - 4) * (9) - (x - 3) * (16)) / (3 - 4)) - (x - 3) * (((x - 5) * (16) - (x - 4) * (25)) / (4 - 5))) / (3 - 5))) / (2 - 5))) / (1 - 5)) - (x - 1) * (((x - 6) * (((x - 5) * (((x - 4) * (((x - 3) * (4) - (x - 2) * (9)) / (2 - 3)) - (x - 2) * (((x - 4) * (9) - (x - 3) * (16)) / (3 - 4))) / (2 - 4)) - (x - 2) * (((x - 5) * (((x - 4) * (9) - (x - 3) * (16)) / (3 - 4)) - (x - 3) * (((x - 5) * (16) - (x - 4) * (25)) / (4 - 5))) / (3 - 5))) / (2 - 5)) - (x - 2) * (((x - 6) * (((x - 5) * (((x - 4) * (9) - (x - 3) * (16)) / (3 - 4)) - (x - 3) * (((x - 5) * (16) - (x - 4) * (25)) / (4 - 5))) / (3 - 5)) - (x - 3) * (((x - 6) * (((x - 5) * (16) - (x - 4) * (25)) / (4 - 5)) - (x - 4) * (((x - 6) * (25) - (x - 5) * (36)) / (5 - 6))) / (4 - 6))) / (3 - 6))) / (2 - 6))) / (1 - 6)\n",
      "\n"
     ]
    }
   ],
   "source": [
    "# Test with larger array (>5 points)\n",
    "arr_large = np.array([[1, 1], [2, 4], [3, 9], [4, 16], [5, 25], [6, 36]])  \n",
    "polynomial_large = lagrangePolynomialAitken(arr_large)\n",
    "print(\"6-point example:\")\n",
    "\n",
    "print(polynomial_large)\n",
    "print()"
   ]
  },
  {
   "cell_type": "markdown",
   "id": "5180bc97",
   "metadata": {},
   "source": []
  }
 ],
 "metadata": {
  "kernelspec": {
   "display_name": "base",
   "language": "python",
   "name": "python3"
  },
  "language_info": {
   "codemirror_mode": {
    "name": "ipython",
    "version": 3
   },
   "file_extension": ".py",
   "mimetype": "text/x-python",
   "name": "python",
   "nbconvert_exporter": "python",
   "pygments_lexer": "ipython3",
   "version": "3.12.7"
  }
 },
 "nbformat": 4,
 "nbformat_minor": 5
}
